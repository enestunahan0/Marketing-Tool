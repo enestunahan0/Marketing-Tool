{
 "cells": [
  {
   "cell_type": "code",
   "execution_count": 2,
   "id": "3135e2c7",
   "metadata": {},
   "outputs": [
    {
     "name": "stdout",
     "output_type": "stream",
     "text": [
      "✅ order_model ve order_model_features başarıyla kaydedildi.\n"
     ]
    }
   ],
   "source": [
    "import pandas as pd\n",
    "import numpy as np\n",
    "import pickle\n",
    "from xgboost import XGBRegressor\n",
    "from sklearn.ensemble import GradientBoostingRegressor\n",
    "from sklearn.model_selection import train_test_split\n",
    "\n",
    "# === VERİ YÜKLE ===\n",
    "df = pd.read_excel(\"EMT_new_data.xlsx\")\n",
    "df['date'] = pd.to_datetime(df['date'])\n",
    "df['weekday'] = df['date'].dt.day_name()\n",
    "df['month'] = df['date'].dt.month\n",
    "df['weekend'] = df['weekday'].isin(['Saturday', 'Sunday']).astype(int)\n",
    "df['month_start'] = df['date'].dt.is_month_start.astype(int)\n",
    "\n",
    "df = pd.get_dummies(df, drop_first=True)\n",
    "df = df.drop(columns=[\"date\"], errors=\"ignore\")\n",
    "df = df.astype(float)\n",
    "\n",
    "# === Hedef ve Girdi ===\n",
    "y = df[\"orders\"]\n",
    "X = df.drop(columns=[\"orders\"])\n",
    "\n",
    "# === Train-Test Böl\n",
    "X_train, X_test, y_train, y_test = train_test_split(X, y, test_size=0.2, random_state=42)\n",
    "\n",
    "# === Model Eğit\n",
    "order_model = GradientBoostingRegressor(n_estimators=100, max_depth=5, random_state=42)\n",
    "order_model.fit(X_train, y_train)\n",
    "\n",
    "# === Kaydet: Model\n",
    "with open(\"order_model.pkl\", \"wb\") as f:\n",
    "    pickle.dump(order_model, f)\n",
    "\n",
    "# === Kaydet: Kullanılan Feature'lar\n",
    "with open(\"order_model_features.pkl\", \"wb\") as f:\n",
    "    pickle.dump(list(X_train.columns.tolist()), f)\n",
    "\n",
    "\n",
    "print(\"✅ order_model ve order_model_features başarıyla kaydedildi.\")\n"
   ]
  },
  {
   "cell_type": "code",
   "execution_count": 4,
   "id": "c260cd9b",
   "metadata": {},
   "outputs": [
    {
     "name": "stdout",
     "output_type": "stream",
     "text": [
      "✅ Model ve feature listesi başarıyla kaydedildi.\n"
     ]
    }
   ],
   "source": [
    "import pandas as pd\n",
    "import numpy as np\n",
    "import pickle\n",
    "from sklearn.ensemble import GradientBoostingRegressor\n",
    "from sklearn.model_selection import train_test_split\n",
    "\n",
    "# ---------------------------\n",
    "# 1. Özellik mühendisliği fonksiyonu\n",
    "# ---------------------------\n",
    "def feature_engineering(df):\n",
    "    df['date'] = pd.to_datetime(df['date'])\n",
    "    df['month'] = df['date'].dt.month\n",
    "    df['weekday'] = df['date'].dt.day_name()\n",
    "    df['is_weekday'] = df['weekday'].isin(['Monday', 'Tuesday', 'Wednesday', 'Thursday', 'Friday']).astype(int)\n",
    "    df['weekend'] = df['weekday'].isin(['Saturday', 'Sunday']).astype(int)\n",
    "    df['month_start'] = (df['date'].dt.day <= 3).astype(int)\n",
    "\n",
    "    # Özel günler\n",
    "    special_dates = ['2024-05-01', '2024-05-02', '2024-05-18', '2024-05-19', '2023-05-01', '2023-05-02',\n",
    "                     '2023-05-18', '2023-05-19', '2022-05-01', '2022-05-02', '2022-05-18', '2022-05-19']\n",
    "    df['special_day'] = df['date'].isin(pd.to_datetime(special_dates)).astype(int)\n",
    "\n",
    "    # Lag ve Rolling\n",
    "    df['orders_lag1'] = df['orders'].shift(1)\n",
    "    df['orders_lag3'] = df['orders'].shift(3)\n",
    "    df['orders_lag7'] = df['orders'].shift(7)\n",
    "    df['orders_roll3'] = df['orders'].rolling(window=3).mean()\n",
    "\n",
    "    df = pd.get_dummies(df, columns=['weekday'], drop_first=False)\n",
    "    df.dropna(inplace=True)\n",
    "    return df\n",
    "\n",
    "# ---------------------------\n",
    "# 2. Veriyi oku ve hazırla\n",
    "# ---------------------------\n",
    "df = pd.read_excel(\"EMT_new_data.xlsx\")\n",
    "df = feature_engineering(df)\n",
    "\n",
    "# ---------------------------\n",
    "# 3. Model girdi-çıktı ayır\n",
    "# ---------------------------\n",
    "X = df.drop(columns=['orders', 'date'])\n",
    "y = df['orders']\n",
    "\n",
    "# ---------------------------\n",
    "# 4. Modeli eğit\n",
    "# ---------------------------\n",
    "model = GradientBoostingRegressor(random_state=42)\n",
    "model.fit(X, y)\n",
    "\n",
    "# ---------------------------\n",
    "# 5. Modeli ve feature listesini kaydet\n",
    "# ---------------------------\n",
    "with open(\"order_model.pkl\", \"wb\") as f:\n",
    "    pickle.dump(model, f)\n",
    "\n",
    "with open(\"order_model_features.pkl\", \"wb\") as f:\n",
    "    pickle.dump(list(X.columns), f)\n",
    "\n",
    "print(\"✅ Model ve feature listesi başarıyla kaydedildi.\")\n"
   ]
  },
  {
   "cell_type": "code",
   "execution_count": null,
   "id": "349c6876",
   "metadata": {},
   "outputs": [],
   "source": []
  }
 ],
 "metadata": {
  "kernelspec": {
   "display_name": "Python 3 (ipykernel)",
   "language": "python",
   "name": "python3"
  },
  "language_info": {
   "codemirror_mode": {
    "name": "ipython",
    "version": 3
   },
   "file_extension": ".py",
   "mimetype": "text/x-python",
   "name": "python",
   "nbconvert_exporter": "python",
   "pygments_lexer": "ipython3",
   "version": "3.11.5"
  }
 },
 "nbformat": 4,
 "nbformat_minor": 5
}
